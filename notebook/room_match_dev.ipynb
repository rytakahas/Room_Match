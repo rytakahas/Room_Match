{
 "cells": [
  {
   "cell_type": "markdown",
   "id": "f3da3e9d",
   "metadata": {},
   "source": [
    "# Room_Match\n",
    "Cupid API’s Room Match\n",
    "\n",
    "### Objective: Classification for Wine Quality (Binary Classification)\n",
    "\n",
    "Build a machine learning API similar to the Cupid API’s Room Match feature. <br> \n",
    "The API should handle POST requests and return sample request/response payloads in a similar <br> \n",
    "format to the Cupid Room Match API. Provide a detailed explanation of your development process, <br> \n",
    "including how you collect and process data, develop models, and scale the system.\n",
    "\n",
    "\n",
    "**Random Forest** and **XGBoost** <br> \n",
    "The workflow includes data preprocessing, model training, <br>\n",
    "hyperparameter optimization, evaluation, and visualization of the results.\n",
    "\n",
    "#### Steps\n",
    "1: Data Exploration and Preprocessing <br>\n",
    "2: Model Training with Random Forest and XGBoost <br>\n",
    "3: Evaluation Metrics and Visualization <br>\n",
    "4: Deliverables <br>\n",
    "<br>\n",
    "<br>\n",
    "\n",
    "1. **Data Preparation**\n",
    "    - Load the wine quality dataset.\n",
    "    - Analyze statistics and correlations of features.\n",
    "    - Transform multiple classifications of wine quality\n",
    "     to binary classification.\n",
    "    - Standard Scaling ($\\mu$ = 0, $\\sigma$ = 1)\n",
    "\n",
    "2. **Model Training**\n",
    "    - Split the dataset into training and testing sets.\n",
    "    - Train with Random Forest (w/o grid search) \n",
    "    and XGBoost with optuna.\n",
    "\n",
    "3. **Evaluation Metrics and Visualization**\n",
    "    - Evaluate precision, recall, and F1 scores\n",
    "    - Visualized ROC curve, confusion matrix, and\n",
    "    feature importance \n",
    "\n",
    "\n",
    "4. **Deliverables**\n",
    "    - RF, and XGBoost trained models were saved to **pkl**\n",
    "    files, and reproducing test results\n",
    "\n"
   ]
  },
  {
   "cell_type": "code",
   "execution_count": 1,
   "id": "5d5c961f",
   "metadata": {},
   "outputs": [
    {
     "name": "stdout",
     "output_type": "stream",
     "text": [
      "Python 3.12.2\n"
     ]
    }
   ],
   "source": [
    "# check python vsersion\n",
    "!python --version"
   ]
  },
  {
   "cell_type": "code",
   "execution_count": null,
   "id": "b4dd199d",
   "metadata": {},
   "outputs": [
    {
     "name": "stdout",
     "output_type": "stream",
     "text": [
      "Overwriting requirements.txt\n"
     ]
    }
   ],
   "source": [
    "%%writefile requirements.txt\n",
    "pandas==2.2.2\n",
    "numpy==1.26.4\n",
    "fasttext==0.9.3\n",
    "seaborn==0.13.2\n",
    "matplotlib==3.9.2\n",
    "statsmodels==0.14.4\n",
    "scikit-learn==1.5.2\n",
    "xgboost==2.1.1\n",
    "optuna==4.0.0\n",
    "tensorflow==2.18.0\n",
    "joblib==1.4.2"
   ]
  },
  {
   "cell_type": "code",
   "execution_count": null,
   "id": "fa5211c8",
   "metadata": {},
   "outputs": [],
   "source": [
    "!pip install -r requirements.txt"
   ]
  },
  {
   "cell_type": "code",
   "execution_count": 2,
   "id": "ec30293e",
   "metadata": {},
   "outputs": [],
   "source": [
    "import pandas as pd"
   ]
  },
  {
   "cell_type": "code",
   "execution_count": 3,
   "id": "9de7143a",
   "metadata": {},
   "outputs": [],
   "source": [
    "df_rooms = pd.read_csv('data/updated_core_rooms.csv')\n",
    "df_ref = pd.read_csv('data/referance_rooms-1737378184366.csv')"
   ]
  },
  {
   "cell_type": "code",
   "execution_count": 4,
   "id": "8393a431",
   "metadata": {},
   "outputs": [
    {
     "data": {
      "text/html": [
       "<div>\n",
       "<style scoped>\n",
       "    .dataframe tbody tr th:only-of-type {\n",
       "        vertical-align: middle;\n",
       "    }\n",
       "\n",
       "    .dataframe tbody tr th {\n",
       "        vertical-align: top;\n",
       "    }\n",
       "\n",
       "    .dataframe thead th {\n",
       "        text-align: right;\n",
       "    }\n",
       "</style>\n",
       "<table border=\"1\" class=\"dataframe\">\n",
       "  <thead>\n",
       "    <tr style=\"text-align: right;\">\n",
       "      <th></th>\n",
       "      <th>core_room_id</th>\n",
       "      <th>core_hotel_id</th>\n",
       "      <th>lp_id</th>\n",
       "      <th>supplier_room_id</th>\n",
       "      <th>supplier_name</th>\n",
       "      <th>supplier_room_name</th>\n",
       "    </tr>\n",
       "  </thead>\n",
       "  <tbody>\n",
       "    <tr>\n",
       "      <th>0</th>\n",
       "      <td>1</td>\n",
       "      <td>506732</td>\n",
       "      <td>lp7bb6c</td>\n",
       "      <td>200979491</td>\n",
       "      <td>Expedia</td>\n",
       "      <td>Superior Double Room</td>\n",
       "    </tr>\n",
       "    <tr>\n",
       "      <th>1</th>\n",
       "      <td>2</td>\n",
       "      <td>509236</td>\n",
       "      <td>lp7c534</td>\n",
       "      <td>200998017</td>\n",
       "      <td>Expedia</td>\n",
       "      <td>Deluxe Room, Balcony</td>\n",
       "    </tr>\n",
       "    <tr>\n",
       "      <th>2</th>\n",
       "      <td>3</td>\n",
       "      <td>516326</td>\n",
       "      <td>lp7e0e6</td>\n",
       "      <td>201144757</td>\n",
       "      <td>Expedia</td>\n",
       "      <td>Female Dormitory- 3 Beds</td>\n",
       "    </tr>\n",
       "    <tr>\n",
       "      <th>3</th>\n",
       "      <td>4</td>\n",
       "      <td>495330</td>\n",
       "      <td>lp78ee2</td>\n",
       "      <td>201028863</td>\n",
       "      <td>Expedia</td>\n",
       "      <td>Standard Apartment, 2 Bedrooms (6 people)</td>\n",
       "    </tr>\n",
       "    <tr>\n",
       "      <th>4</th>\n",
       "      <td>5</td>\n",
       "      <td>970167</td>\n",
       "      <td>lpecdb7</td>\n",
       "      <td>218116045</td>\n",
       "      <td>Expedia</td>\n",
       "      <td>Traditional Cottage, 2 Bedrooms, Harbor View</td>\n",
       "    </tr>\n",
       "    <tr>\n",
       "      <th>...</th>\n",
       "      <td>...</td>\n",
       "      <td>...</td>\n",
       "      <td>...</td>\n",
       "      <td>...</td>\n",
       "      <td>...</td>\n",
       "      <td>...</td>\n",
       "    </tr>\n",
       "    <tr>\n",
       "      <th>2869051</th>\n",
       "      <td>2912439</td>\n",
       "      <td>193359</td>\n",
       "      <td>lp2f34f</td>\n",
       "      <td>323872346</td>\n",
       "      <td>Expedia</td>\n",
       "      <td>Deluxe Room, 1 King Bed with Sofa bed</td>\n",
       "    </tr>\n",
       "    <tr>\n",
       "      <th>2869052</th>\n",
       "      <td>2912440</td>\n",
       "      <td>143473</td>\n",
       "      <td>lp23071</td>\n",
       "      <td>230770971</td>\n",
       "      <td>Expedia</td>\n",
       "      <td>Ocean Bay Pool Room</td>\n",
       "    </tr>\n",
       "    <tr>\n",
       "      <th>2869053</th>\n",
       "      <td>2912441</td>\n",
       "      <td>1701692958</td>\n",
       "      <td>lp656dc61e</td>\n",
       "      <td>322166812</td>\n",
       "      <td>Expedia</td>\n",
       "      <td>8 Berth Luxury Caravan</td>\n",
       "    </tr>\n",
       "    <tr>\n",
       "      <th>2869054</th>\n",
       "      <td>2912442</td>\n",
       "      <td>143473</td>\n",
       "      <td>lp23071</td>\n",
       "      <td>315521742</td>\n",
       "      <td>Expedia</td>\n",
       "      <td>Beach Room</td>\n",
       "    </tr>\n",
       "    <tr>\n",
       "      <th>2869055</th>\n",
       "      <td>2912443</td>\n",
       "      <td>143473</td>\n",
       "      <td>lp23071</td>\n",
       "      <td>315521743</td>\n",
       "      <td>Expedia</td>\n",
       "      <td>Hibiscus Suite</td>\n",
       "    </tr>\n",
       "  </tbody>\n",
       "</table>\n",
       "<p>2869056 rows × 6 columns</p>\n",
       "</div>"
      ],
      "text/plain": [
       "         core_room_id  core_hotel_id       lp_id  supplier_room_id  \\\n",
       "0                   1         506732     lp7bb6c         200979491   \n",
       "1                   2         509236     lp7c534         200998017   \n",
       "2                   3         516326     lp7e0e6         201144757   \n",
       "3                   4         495330     lp78ee2         201028863   \n",
       "4                   5         970167     lpecdb7         218116045   \n",
       "...               ...            ...         ...               ...   \n",
       "2869051       2912439         193359     lp2f34f         323872346   \n",
       "2869052       2912440         143473     lp23071         230770971   \n",
       "2869053       2912441     1701692958  lp656dc61e         322166812   \n",
       "2869054       2912442         143473     lp23071         315521742   \n",
       "2869055       2912443         143473     lp23071         315521743   \n",
       "\n",
       "        supplier_name                            supplier_room_name  \n",
       "0             Expedia                          Superior Double Room  \n",
       "1             Expedia                          Deluxe Room, Balcony  \n",
       "2             Expedia                      Female Dormitory- 3 Beds  \n",
       "3             Expedia     Standard Apartment, 2 Bedrooms (6 people)  \n",
       "4             Expedia  Traditional Cottage, 2 Bedrooms, Harbor View  \n",
       "...               ...                                           ...  \n",
       "2869051       Expedia         Deluxe Room, 1 King Bed with Sofa bed  \n",
       "2869052       Expedia                           Ocean Bay Pool Room  \n",
       "2869053       Expedia                        8 Berth Luxury Caravan  \n",
       "2869054       Expedia                                    Beach Room  \n",
       "2869055       Expedia                                Hibiscus Suite  \n",
       "\n",
       "[2869056 rows x 6 columns]"
      ]
     },
     "execution_count": 4,
     "metadata": {},
     "output_type": "execute_result"
    }
   ],
   "source": [
    "df_rooms"
   ]
  },
  {
   "cell_type": "code",
   "execution_count": 5,
   "id": "43af76a0",
   "metadata": {},
   "outputs": [
    {
     "data": {
      "text/html": [
       "<div>\n",
       "<style scoped>\n",
       "    .dataframe tbody tr th:only-of-type {\n",
       "        vertical-align: middle;\n",
       "    }\n",
       "\n",
       "    .dataframe tbody tr th {\n",
       "        vertical-align: top;\n",
       "    }\n",
       "\n",
       "    .dataframe thead th {\n",
       "        text-align: right;\n",
       "    }\n",
       "</style>\n",
       "<table border=\"1\" class=\"dataframe\">\n",
       "  <thead>\n",
       "    <tr style=\"text-align: right;\">\n",
       "      <th></th>\n",
       "      <th>hotel_id</th>\n",
       "      <th>lp_id</th>\n",
       "      <th>room_id</th>\n",
       "      <th>room_name</th>\n",
       "    </tr>\n",
       "  </thead>\n",
       "  <tbody>\n",
       "    <tr>\n",
       "      <th>0</th>\n",
       "      <td>13484077</td>\n",
       "      <td>lp23e8ef</td>\n",
       "      <td>1142730702</td>\n",
       "      <td>Double or Twin Room</td>\n",
       "    </tr>\n",
       "    <tr>\n",
       "      <th>1</th>\n",
       "      <td>13487663</td>\n",
       "      <td>lp6554de34</td>\n",
       "      <td>1141927122</td>\n",
       "      <td>House</td>\n",
       "    </tr>\n",
       "    <tr>\n",
       "      <th>2</th>\n",
       "      <td>13462809</td>\n",
       "      <td>lp6556c3dc</td>\n",
       "      <td>1142722063</td>\n",
       "      <td>Room</td>\n",
       "    </tr>\n",
       "    <tr>\n",
       "      <th>3</th>\n",
       "      <td>13530116</td>\n",
       "      <td>lp6555450b</td>\n",
       "      <td>1141968275</td>\n",
       "      <td>Triple Room</td>\n",
       "    </tr>\n",
       "    <tr>\n",
       "      <th>4</th>\n",
       "      <td>13530071</td>\n",
       "      <td>lp6557a92c</td>\n",
       "      <td>1142513784</td>\n",
       "      <td>Apartment</td>\n",
       "    </tr>\n",
       "    <tr>\n",
       "      <th>...</th>\n",
       "      <td>...</td>\n",
       "      <td>...</td>\n",
       "      <td>...</td>\n",
       "      <td>...</td>\n",
       "    </tr>\n",
       "    <tr>\n",
       "      <th>99995</th>\n",
       "      <td>21684</td>\n",
       "      <td>lp6561b025</td>\n",
       "      <td>2168409</td>\n",
       "      <td>Two-Bedroom Suite</td>\n",
       "    </tr>\n",
       "    <tr>\n",
       "      <th>99996</th>\n",
       "      <td>21684</td>\n",
       "      <td>lp6561b025</td>\n",
       "      <td>2168411</td>\n",
       "      <td>Deluxe Triple Room</td>\n",
       "    </tr>\n",
       "    <tr>\n",
       "      <th>99997</th>\n",
       "      <td>21684</td>\n",
       "      <td>lp6561b025</td>\n",
       "      <td>2168412</td>\n",
       "      <td>Deluxe Queen Room with Two Queen Beds</td>\n",
       "    </tr>\n",
       "    <tr>\n",
       "      <th>99998</th>\n",
       "      <td>21684</td>\n",
       "      <td>lp6561b025</td>\n",
       "      <td>2168413</td>\n",
       "      <td>Classic Quadruple Room</td>\n",
       "    </tr>\n",
       "    <tr>\n",
       "      <th>99999</th>\n",
       "      <td>21684</td>\n",
       "      <td>lp6561b025</td>\n",
       "      <td>2168414</td>\n",
       "      <td>Standard King Room</td>\n",
       "    </tr>\n",
       "  </tbody>\n",
       "</table>\n",
       "<p>100000 rows × 4 columns</p>\n",
       "</div>"
      ],
      "text/plain": [
       "       hotel_id       lp_id     room_id                              room_name\n",
       "0      13484077    lp23e8ef  1142730702                    Double or Twin Room\n",
       "1      13487663  lp6554de34  1141927122                                  House\n",
       "2      13462809  lp6556c3dc  1142722063                                   Room\n",
       "3      13530116  lp6555450b  1141968275                            Triple Room\n",
       "4      13530071  lp6557a92c  1142513784                              Apartment\n",
       "...         ...         ...         ...                                    ...\n",
       "99995     21684  lp6561b025     2168409                      Two-Bedroom Suite\n",
       "99996     21684  lp6561b025     2168411                     Deluxe Triple Room\n",
       "99997     21684  lp6561b025     2168412  Deluxe Queen Room with Two Queen Beds\n",
       "99998     21684  lp6561b025     2168413                 Classic Quadruple Room\n",
       "99999     21684  lp6561b025     2168414                     Standard King Room\n",
       "\n",
       "[100000 rows x 4 columns]"
      ]
     },
     "execution_count": 5,
     "metadata": {},
     "output_type": "execute_result"
    }
   ],
   "source": [
    "df_ref"
   ]
  },
  {
   "cell_type": "code",
   "execution_count": 11,
   "id": "b50468c5",
   "metadata": {},
   "outputs": [
    {
     "name": "stdout",
     "output_type": "stream",
     "text": [
      "<class 'pandas.core.frame.DataFrame'>\n",
      "RangeIndex: 2869056 entries, 0 to 2869055\n",
      "Data columns (total 7 columns):\n",
      " #   Column              Dtype \n",
      "---  ------              ----- \n",
      " 0   core_room_id        int64 \n",
      " 1   core_hotel_id       int64 \n",
      " 2   lp_id               object\n",
      " 3   supplier_room_id    int64 \n",
      " 4   supplier_name       object\n",
      " 5   supplier_room_name  object\n",
      " 6   lang_supplier       object\n",
      "dtypes: int64(3), object(4)\n",
      "memory usage: 153.2+ MB\n",
      "None\n",
      "<class 'pandas.core.frame.DataFrame'>\n",
      "RangeIndex: 100000 entries, 0 to 99999\n",
      "Data columns (total 5 columns):\n",
      " #   Column     Non-Null Count   Dtype \n",
      "---  ------     --------------   ----- \n",
      " 0   hotel_id   100000 non-null  int64 \n",
      " 1   lp_id      100000 non-null  object\n",
      " 2   room_id    100000 non-null  int64 \n",
      " 3   room_name  100000 non-null  object\n",
      " 4   lang_ref   100000 non-null  object\n",
      "dtypes: int64(2), object(3)\n",
      "memory usage: 3.8+ MB\n",
      "None\n"
     ]
    }
   ],
   "source": [
    "print(df_rooms.info())\n",
    "print(df_ref.info())"
   ]
  },
  {
   "cell_type": "code",
   "execution_count": 12,
   "id": "b24f9fdf",
   "metadata": {},
   "outputs": [
    {
     "name": "stdout",
     "output_type": "stream",
     "text": [
      "🔍 NaN values in df_rooms:\n",
      "core_room_id          0\n",
      "core_hotel_id         0\n",
      "lp_id                 0\n",
      "supplier_room_id      0\n",
      "supplier_name         0\n",
      "supplier_room_name    1\n",
      "lang_supplier         1\n",
      "dtype: int64\n",
      "\n",
      "🔍 NaN values in df_ref:\n",
      "hotel_id     0\n",
      "lp_id        0\n",
      "room_id      0\n",
      "room_name    0\n",
      "lang_ref     0\n",
      "dtype: int64\n"
     ]
    }
   ],
   "source": [
    "print(\"🔍 NaN values in df_rooms:\")\n",
    "print(df_rooms.isna().sum())\n",
    "\n",
    "print(\"\\n🔍 NaN values in df_ref:\")\n",
    "print(df_ref.isna().sum())\n"
   ]
  },
  {
   "cell_type": "code",
   "execution_count": 14,
   "id": "7a35c800",
   "metadata": {},
   "outputs": [
    {
     "data": {
      "text/html": [
       "<div>\n",
       "<style scoped>\n",
       "    .dataframe tbody tr th:only-of-type {\n",
       "        vertical-align: middle;\n",
       "    }\n",
       "\n",
       "    .dataframe tbody tr th {\n",
       "        vertical-align: top;\n",
       "    }\n",
       "\n",
       "    .dataframe thead th {\n",
       "        text-align: right;\n",
       "    }\n",
       "</style>\n",
       "<table border=\"1\" class=\"dataframe\">\n",
       "  <thead>\n",
       "    <tr style=\"text-align: right;\">\n",
       "      <th></th>\n",
       "      <th>core_room_id</th>\n",
       "      <th>core_hotel_id</th>\n",
       "      <th>lp_id</th>\n",
       "      <th>supplier_room_id</th>\n",
       "      <th>supplier_name</th>\n",
       "      <th>supplier_room_name</th>\n",
       "      <th>lang_supplier</th>\n",
       "    </tr>\n",
       "  </thead>\n",
       "  <tbody>\n",
       "    <tr>\n",
       "      <th>1376206</th>\n",
       "      <td>1378719</td>\n",
       "      <td>970619</td>\n",
       "      <td>lpecf7b</td>\n",
       "      <td>220527262</td>\n",
       "      <td>Expedia</td>\n",
       "      <td>NaN</td>\n",
       "      <td>NaN</td>\n",
       "    </tr>\n",
       "  </tbody>\n",
       "</table>\n",
       "</div>"
      ],
      "text/plain": [
       "         core_room_id  core_hotel_id    lp_id  supplier_room_id supplier_name  \\\n",
       "1376206       1378719         970619  lpecf7b         220527262       Expedia   \n",
       "\n",
       "        supplier_room_name lang_supplier  \n",
       "1376206                NaN           NaN  "
      ]
     },
     "execution_count": 14,
     "metadata": {},
     "output_type": "execute_result"
    }
   ],
   "source": [
    "df_rooms[df_rooms['supplier_room_name'].isna() | df_rooms['lang_supplier'].isna()]"
   ]
  },
  {
   "cell_type": "code",
   "execution_count": 16,
   "id": "f2d37436",
   "metadata": {},
   "outputs": [],
   "source": [
    "df_rooms_cleaned = df_rooms.dropna(subset=['supplier_room_name', 'lang_supplier'])"
   ]
  },
  {
   "cell_type": "code",
   "execution_count": 17,
   "id": "637c9858",
   "metadata": {},
   "outputs": [
    {
     "name": "stdout",
     "output_type": "stream",
     "text": [
      "🔍 Empty string counts in df_rooms:\n",
      "lp_id                 0\n",
      "supplier_name         0\n",
      "supplier_room_name    0\n",
      "lang_supplier         0\n",
      "dtype: int64\n",
      "\n",
      "🔍 Empty string counts in df_ref:\n",
      "lp_id        0\n",
      "room_name    0\n",
      "lang_ref     0\n",
      "dtype: int64\n"
     ]
    }
   ],
   "source": [
    "print(\"🔍 Empty string counts in df_rooms:\")\n",
    "print((df_rooms.select_dtypes(include='object') == '').sum())\n",
    "\n",
    "print(\"\\n🔍 Empty string counts in df_ref:\")\n",
    "print((df_ref.select_dtypes(include='object') == '').sum())"
   ]
  },
  {
   "cell_type": "code",
   "execution_count": null,
   "id": "b30cb782",
   "metadata": {},
   "outputs": [],
   "source": [
    "# over write to df_rooms\n",
    "df_rooms = df_rooms_cleaned"
   ]
  },
  {
   "cell_type": "code",
   "execution_count": 7,
   "id": "b3350a43",
   "metadata": {},
   "outputs": [
    {
     "name": "stdout",
     "output_type": "stream",
     "text": [
      "Languages detected in df_rooms['supplier_room_name']:\n",
      "\n",
      "lang_supplier\n",
      "en     2769588\n",
      "it       46120\n",
      "fr       12469\n",
      "es       10253\n",
      "de        9766\n",
      "        ...   \n",
      "arz          1\n",
      "hsb          1\n",
      "pam          1\n",
      "am           1\n",
      "rm           1\n",
      "Name: count, Length: 96, dtype: int64\n",
      "\n",
      "🌍 Total unique languages in df_rooms: 96\n",
      "\n",
      "Languages detected in df_ref['room_name']:\n",
      "\n",
      "lang_ref\n",
      "en     97479\n",
      "it      1354\n",
      "fr       372\n",
      "es       216\n",
      "de       213\n",
      "pt       104\n",
      "nl        58\n",
      "ja        27\n",
      "zh        16\n",
      "ru        15\n",
      "sv        14\n",
      "id        14\n",
      "pl        13\n",
      "oc        12\n",
      "tr        11\n",
      "fi        10\n",
      "ceb        8\n",
      "ca         8\n",
      "eo         8\n",
      "ms         7\n",
      "fa         7\n",
      "hu         5\n",
      "ro         3\n",
      "eu         3\n",
      "uk         3\n",
      "cs         3\n",
      "vi         2\n",
      "sl         2\n",
      "bn         2\n",
      "da         2\n",
      "hy         1\n",
      "sh         1\n",
      "lt         1\n",
      "az         1\n",
      "mn         1\n",
      "no         1\n",
      "af         1\n",
      "gl         1\n",
      "war        1\n",
      "Name: count, dtype: int64\n",
      "\n",
      "🌍 Total unique languages in df_ref: 39\n"
     ]
    }
   ],
   "source": [
    "# Load fastText language detection model (must be downloaded beforehand)\n",
    "# https://dl.fbaipublicfiles.com/fasttext/supervised-models/lid.176.bin\n",
    "\n",
    "import fasttext\n",
    "import pandas as pd\n",
    "\n",
    "# Load pre-trained fastText model\n",
    "fasttext_model = fasttext.load_model('lid.176.bin')\n",
    "\n",
    "# Define language detection function\n",
    "def fasttext_lang(text):\n",
    "    try:\n",
    "        if not isinstance(text, str) or not text.strip():\n",
    "            return 'unknown'\n",
    "        label = fasttext_model.predict(text.strip().replace('\\n', ''))[0][0]\n",
    "        return label.replace('__label__', '')\n",
    "    except:\n",
    "        return 'unknown'\n",
    "\n",
    "# Apply fastText language detection with filtering\n",
    "df_rooms = df_rooms.copy()\n",
    "df_ref = df_ref.copy()\n",
    "\n",
    "# Remove redundant/duplicate names to speed up detection\n",
    "unique_supplier_names = df_rooms['supplier_room_name'].dropna().unique()\n",
    "lang_map_supplier = {name: fasttext_lang(name) for name in unique_supplier_names}\n",
    "df_rooms['lang_supplier'] = df_rooms['supplier_room_name'].map(lang_map_supplier)\n",
    "\n",
    "unique_ref_names = df_ref['room_name'].dropna().unique()\n",
    "lang_map_ref = {name: fasttext_lang(name) for name in unique_ref_names}\n",
    "df_ref['lang_ref'] = df_ref['room_name'].map(lang_map_ref)\n",
    "\n",
    "# Count languages\n",
    "supplier_langs = df_rooms['lang_supplier'].value_counts()\n",
    "ref_langs = df_ref['lang_ref'].value_counts()\n",
    "\n",
    "# Print results\n",
    "print(\"Languages detected in df_rooms['supplier_room_name']:\\n\")\n",
    "print(supplier_langs)\n",
    "print(f\"\\n🌍 Total unique languages in df_rooms: {df_rooms['lang_supplier'].nunique()}\")\n",
    "\n",
    "print(\"\\nLanguages detected in df_ref['room_name']:\\n\")\n",
    "print(ref_langs)\n",
    "print(f\"\\n🌍 Total unique languages in df_ref: {df_ref['lang_ref'].nunique()}\")\n"
   ]
  },
  {
   "cell_type": "code",
   "execution_count": 54,
   "id": "3af22e65",
   "metadata": {},
   "outputs": [
    {
     "name": "stdout",
     "output_type": "stream",
     "text": [
      "Common lp_id count: 0           lpbe3f4\n",
      "1           lp75a46\n",
      "2          lp1a35ab\n",
      "3           lpd0b23\n",
      "4        lp6555d54b\n",
      "            ...    \n",
      "28633    lp655835e3\n",
      "28634       lp9159c\n",
      "28635    lp65579276\n",
      "28636       lpe40d6\n",
      "28637       lp9b8e0\n",
      "Length: 28638, dtype: object\n"
     ]
    }
   ],
   "source": [
    "\n",
    "common_lp_ids = pd.Series(list(set(df_rooms['lp_id']) & set(df_ref['lp_id'])))\n",
    "print(f\"Common lp_id count: {common_lp_ids}\")"
   ]
  },
  {
   "cell_type": "code",
   "execution_count": 59,
   "id": "01a5c2c8",
   "metadata": {},
   "outputs": [
    {
     "name": "stdout",
     "output_type": "stream",
     "text": [
      "common hotel_id count: 0       364545\n",
      "1       286722\n",
      "2       720899\n",
      "3      2201605\n",
      "4       440327\n",
      "        ...   \n",
      "847     186352\n",
      "848     188400\n",
      "849     454643\n",
      "850    2627579\n",
      "851     600060\n",
      "Length: 852, dtype: int64\n"
     ]
    }
   ],
   "source": [
    "common_hotel_ids = pd.Series(list(set(df_rooms['core_hotel_id']) & set(df_ref['hotel_id'])))\n",
    "print(f\"common hotel_id count: {common_hotel_ids}\")\n"
   ]
  },
  {
   "cell_type": "code",
   "execution_count": 69,
   "id": "326b80bf",
   "metadata": {},
   "outputs": [
    {
     "name": "stdout",
     "output_type": "stream",
     "text": [
      "Common room_id : 0      1429504\n",
      "1      1429505\n",
      "2        45058\n",
      "3      1429506\n",
      "4      1429507\n",
      "        ...   \n",
      "575     114683\n",
      "576    2646012\n",
      "577    1429501\n",
      "578    1429502\n",
      "579    1429503\n",
      "Length: 580, dtype: int64\n"
     ]
    }
   ],
   "source": [
    "common_room_ids = pd.Series(list(set(df_rooms['core_room_id']) & set(df_ref['room_id'])))\n",
    "print(f\"Common room_id : {common_room_ids}\")\n"
   ]
  },
  {
   "cell_type": "code",
   "execution_count": 37,
   "id": "bf39ce8b",
   "metadata": {},
   "outputs": [
    {
     "name": "stdout",
     "output_type": "stream",
     "text": [
      "Common hotel_id count: 0      314329102\n",
      "1      324035101\n",
      "2      322947102\n",
      "3      228316702\n",
      "4      228316703\n",
      "         ...    \n",
      "99     216939502\n",
      "100    216939503\n",
      "101    216939504\n",
      "102    202266104\n",
      "103       114687\n",
      "Length: 104, dtype: int64\n"
     ]
    }
   ],
   "source": [
    "common_room_ids = pd.Series(list(set(df_rooms['supplier_room_id']) & set(df_ref['room_id'])))\n",
    "print(f\"Common hotel_id count: {common_room_ids}\")"
   ]
  },
  {
   "cell_type": "code",
   "execution_count": 45,
   "id": "c71bead5",
   "metadata": {},
   "outputs": [
    {
     "data": {
      "text/html": [
       "<div>\n",
       "<style scoped>\n",
       "    .dataframe tbody tr th:only-of-type {\n",
       "        vertical-align: middle;\n",
       "    }\n",
       "\n",
       "    .dataframe tbody tr th {\n",
       "        vertical-align: top;\n",
       "    }\n",
       "\n",
       "    .dataframe thead th {\n",
       "        text-align: right;\n",
       "    }\n",
       "</style>\n",
       "<table border=\"1\" class=\"dataframe\">\n",
       "  <thead>\n",
       "    <tr style=\"text-align: right;\">\n",
       "      <th></th>\n",
       "      <th>core_room_id</th>\n",
       "      <th>core_hotel_id</th>\n",
       "      <th>lp_id</th>\n",
       "      <th>supplier_room_id</th>\n",
       "      <th>supplier_name</th>\n",
       "      <th>supplier_room_name</th>\n",
       "    </tr>\n",
       "  </thead>\n",
       "  <tbody>\n",
       "    <tr>\n",
       "      <th>2350656</th>\n",
       "      <td>2394044</td>\n",
       "      <td>1700279779</td>\n",
       "      <td>lp655835e3</td>\n",
       "      <td>320662691</td>\n",
       "      <td>Expedia</td>\n",
       "      <td>إستديو ديلوكس</td>\n",
       "    </tr>\n",
       "    <tr>\n",
       "      <th>2354917</th>\n",
       "      <td>2398305</td>\n",
       "      <td>1700279779</td>\n",
       "      <td>lp655835e3</td>\n",
       "      <td>320662463</td>\n",
       "      <td>Expedia</td>\n",
       "      <td>غرفة مزدوجة</td>\n",
       "    </tr>\n",
       "  </tbody>\n",
       "</table>\n",
       "</div>"
      ],
      "text/plain": [
       "         core_room_id  core_hotel_id       lp_id  supplier_room_id  \\\n",
       "2350656       2394044     1700279779  lp655835e3         320662691   \n",
       "2354917       2398305     1700279779  lp655835e3         320662463   \n",
       "\n",
       "        supplier_name supplier_room_name  \n",
       "2350656       Expedia      إستديو ديلوكس  \n",
       "2354917       Expedia        غرفة مزدوجة  "
      ]
     },
     "execution_count": 45,
     "metadata": {},
     "output_type": "execute_result"
    }
   ],
   "source": [
    "df_rooms[df_rooms['lp_id'] == 'lp655835e3']"
   ]
  },
  {
   "cell_type": "code",
   "execution_count": 46,
   "id": "cc9471b2",
   "metadata": {},
   "outputs": [
    {
     "data": {
      "text/html": [
       "<div>\n",
       "<style scoped>\n",
       "    .dataframe tbody tr th:only-of-type {\n",
       "        vertical-align: middle;\n",
       "    }\n",
       "\n",
       "    .dataframe tbody tr th {\n",
       "        vertical-align: top;\n",
       "    }\n",
       "\n",
       "    .dataframe thead th {\n",
       "        text-align: right;\n",
       "    }\n",
       "</style>\n",
       "<table border=\"1\" class=\"dataframe\">\n",
       "  <thead>\n",
       "    <tr style=\"text-align: right;\">\n",
       "      <th></th>\n",
       "      <th>hotel_id</th>\n",
       "      <th>lp_id</th>\n",
       "      <th>room_id</th>\n",
       "      <th>room_name</th>\n",
       "    </tr>\n",
       "  </thead>\n",
       "  <tbody>\n",
       "    <tr>\n",
       "      <th>74793</th>\n",
       "      <td>13463994</td>\n",
       "      <td>lp655835e3</td>\n",
       "      <td>1142451754</td>\n",
       "      <td>Deluxe Studio</td>\n",
       "    </tr>\n",
       "    <tr>\n",
       "      <th>74794</th>\n",
       "      <td>13463994</td>\n",
       "      <td>lp655835e3</td>\n",
       "      <td>1142451769</td>\n",
       "      <td>Double Room</td>\n",
       "    </tr>\n",
       "  </tbody>\n",
       "</table>\n",
       "</div>"
      ],
      "text/plain": [
       "       hotel_id       lp_id     room_id      room_name\n",
       "74793  13463994  lp655835e3  1142451754  Deluxe Studio\n",
       "74794  13463994  lp655835e3  1142451769    Double Room"
      ]
     },
     "execution_count": 46,
     "metadata": {},
     "output_type": "execute_result"
    }
   ],
   "source": [
    "df_ref[df_ref['lp_id'] == 'lp655835e3']"
   ]
  },
  {
   "cell_type": "code",
   "execution_count": 84,
   "id": "f4c5e5cf",
   "metadata": {},
   "outputs": [
    {
     "data": {
      "text/html": [
       "<div>\n",
       "<style scoped>\n",
       "    .dataframe tbody tr th:only-of-type {\n",
       "        vertical-align: middle;\n",
       "    }\n",
       "\n",
       "    .dataframe tbody tr th {\n",
       "        vertical-align: top;\n",
       "    }\n",
       "\n",
       "    .dataframe thead th {\n",
       "        text-align: right;\n",
       "    }\n",
       "</style>\n",
       "<table border=\"1\" class=\"dataframe\">\n",
       "  <thead>\n",
       "    <tr style=\"text-align: right;\">\n",
       "      <th></th>\n",
       "      <th>core_room_id</th>\n",
       "      <th>core_hotel_id</th>\n",
       "      <th>lp_id</th>\n",
       "      <th>supplier_room_id</th>\n",
       "      <th>supplier_name</th>\n",
       "      <th>supplier_room_name</th>\n",
       "    </tr>\n",
       "  </thead>\n",
       "  <tbody>\n",
       "    <tr>\n",
       "      <th>153</th>\n",
       "      <td>154</td>\n",
       "      <td>628660</td>\n",
       "      <td>lp997b4</td>\n",
       "      <td>201691711</td>\n",
       "      <td>Expedia</td>\n",
       "      <td>Family House, 5 Bedrooms</td>\n",
       "    </tr>\n",
       "  </tbody>\n",
       "</table>\n",
       "</div>"
      ],
      "text/plain": [
       "     core_room_id  core_hotel_id    lp_id  supplier_room_id supplier_name  \\\n",
       "153           154         628660  lp997b4         201691711       Expedia   \n",
       "\n",
       "           supplier_room_name  \n",
       "153  Family House, 5 Bedrooms  "
      ]
     },
     "execution_count": 84,
     "metadata": {},
     "output_type": "execute_result"
    }
   ],
   "source": [
    "df_rooms[df_rooms['core_hotel_id'] == 628660]"
   ]
  },
  {
   "cell_type": "code",
   "execution_count": 83,
   "id": "42903b49",
   "metadata": {},
   "outputs": [
    {
     "data": {
      "text/html": [
       "<div>\n",
       "<style scoped>\n",
       "    .dataframe tbody tr th:only-of-type {\n",
       "        vertical-align: middle;\n",
       "    }\n",
       "\n",
       "    .dataframe tbody tr th {\n",
       "        vertical-align: top;\n",
       "    }\n",
       "\n",
       "    .dataframe thead th {\n",
       "        text-align: right;\n",
       "    }\n",
       "</style>\n",
       "<table border=\"1\" class=\"dataframe\">\n",
       "  <thead>\n",
       "    <tr style=\"text-align: right;\">\n",
       "      <th></th>\n",
       "      <th>hotel_id</th>\n",
       "      <th>lp_id</th>\n",
       "      <th>room_id</th>\n",
       "      <th>room_name</th>\n",
       "    </tr>\n",
       "  </thead>\n",
       "  <tbody>\n",
       "    <tr>\n",
       "      <th>65895</th>\n",
       "      <td>628660</td>\n",
       "      <td>lp71165</td>\n",
       "      <td>62866001</td>\n",
       "      <td>Double Room</td>\n",
       "    </tr>\n",
       "    <tr>\n",
       "      <th>65896</th>\n",
       "      <td>628660</td>\n",
       "      <td>lp71165</td>\n",
       "      <td>62866002</td>\n",
       "      <td>Twin Room</td>\n",
       "    </tr>\n",
       "    <tr>\n",
       "      <th>65897</th>\n",
       "      <td>628660</td>\n",
       "      <td>lp71165</td>\n",
       "      <td>62866003</td>\n",
       "      <td>Standard Triple Room</td>\n",
       "    </tr>\n",
       "    <tr>\n",
       "      <th>65898</th>\n",
       "      <td>628660</td>\n",
       "      <td>lp71165</td>\n",
       "      <td>62866005</td>\n",
       "      <td>Quadruple Room</td>\n",
       "    </tr>\n",
       "    <tr>\n",
       "      <th>65899</th>\n",
       "      <td>628660</td>\n",
       "      <td>lp71165</td>\n",
       "      <td>62866006</td>\n",
       "      <td>Triple Room with One Double Bed and One Single...</td>\n",
       "    </tr>\n",
       "    <tr>\n",
       "      <th>65900</th>\n",
       "      <td>628660</td>\n",
       "      <td>lp71165</td>\n",
       "      <td>62866009</td>\n",
       "      <td>Superior Double Room</td>\n",
       "    </tr>\n",
       "  </tbody>\n",
       "</table>\n",
       "</div>"
      ],
      "text/plain": [
       "       hotel_id    lp_id   room_id  \\\n",
       "65895    628660  lp71165  62866001   \n",
       "65896    628660  lp71165  62866002   \n",
       "65897    628660  lp71165  62866003   \n",
       "65898    628660  lp71165  62866005   \n",
       "65899    628660  lp71165  62866006   \n",
       "65900    628660  lp71165  62866009   \n",
       "\n",
       "                                               room_name  \n",
       "65895                                        Double Room  \n",
       "65896                                          Twin Room  \n",
       "65897                               Standard Triple Room  \n",
       "65898                                     Quadruple Room  \n",
       "65899  Triple Room with One Double Bed and One Single...  \n",
       "65900                               Superior Double Room  "
      ]
     },
     "execution_count": 83,
     "metadata": {},
     "output_type": "execute_result"
    }
   ],
   "source": [
    "df_ref[df_ref['hotel_id'] == 628660]"
   ]
  },
  {
   "cell_type": "code",
   "execution_count": 66,
   "id": "c901de07",
   "metadata": {},
   "outputs": [
    {
     "name": "stdout",
     "output_type": "stream",
     "text": [
      "int64\n",
      "int64\n"
     ]
    }
   ],
   "source": [
    "print(df_rooms['core_hotel_id'].dtype)\n",
    "print(df_ref['hotel_id'].dtype)"
   ]
  },
  {
   "cell_type": "code",
   "execution_count": 67,
   "id": "e1e97b9a",
   "metadata": {},
   "outputs": [
    {
     "name": "stdout",
     "output_type": "stream",
     "text": [
      "0 NaNs in core_hotel_id\n",
      "0 NaNs in hotel_id\n"
     ]
    }
   ],
   "source": [
    "print(df_rooms['core_hotel_id'].isna().sum(), 'NaNs in core_hotel_id')\n",
    "print(df_ref['hotel_id'].isna().sum(), 'NaNs in hotel_id')"
   ]
  },
  {
   "cell_type": "code",
   "execution_count": 75,
   "id": "7e642078",
   "metadata": {},
   "outputs": [
    {
     "name": "stdout",
     "output_type": "stream",
     "text": [
      "Index(['core_room_id', 'core_hotel_id', 'lp_id', 'supplier_room_id',\n",
      "       'supplier_name', 'supplier_room_name'],\n",
      "      dtype='object')\n",
      "Index(['hotel_id', 'lp_id', 'room_id', 'room_name'], dtype='object')\n"
     ]
    }
   ],
   "source": [
    "print(df_rooms.columns)\n",
    "print(df_ref.columns)"
   ]
  },
  {
   "cell_type": "code",
   "execution_count": 86,
   "id": "65996fd9",
   "metadata": {},
   "outputs": [
    {
     "data": {
      "text/html": [
       "<div>\n",
       "<style scoped>\n",
       "    .dataframe tbody tr th:only-of-type {\n",
       "        vertical-align: middle;\n",
       "    }\n",
       "\n",
       "    .dataframe tbody tr th {\n",
       "        vertical-align: top;\n",
       "    }\n",
       "\n",
       "    .dataframe thead th {\n",
       "        text-align: right;\n",
       "    }\n",
       "</style>\n",
       "<table border=\"1\" class=\"dataframe\">\n",
       "  <thead>\n",
       "    <tr style=\"text-align: right;\">\n",
       "      <th></th>\n",
       "      <th>core_room_id</th>\n",
       "      <th>core_hotel_id</th>\n",
       "      <th>lp_id</th>\n",
       "      <th>supplier_room_id</th>\n",
       "      <th>supplier_name</th>\n",
       "      <th>supplier_room_name</th>\n",
       "    </tr>\n",
       "  </thead>\n",
       "  <tbody>\n",
       "    <tr>\n",
       "      <th>1426994</th>\n",
       "      <td>1429507</td>\n",
       "      <td>674747</td>\n",
       "      <td>lpa4bbb</td>\n",
       "      <td>201881189</td>\n",
       "      <td>Expedia</td>\n",
       "      <td>Deluxe Room</td>\n",
       "    </tr>\n",
       "  </tbody>\n",
       "</table>\n",
       "</div>"
      ],
      "text/plain": [
       "         core_room_id  core_hotel_id    lp_id  supplier_room_id supplier_name  \\\n",
       "1426994       1429507         674747  lpa4bbb         201881189       Expedia   \n",
       "\n",
       "        supplier_room_name  \n",
       "1426994        Deluxe Room  "
      ]
     },
     "execution_count": 86,
     "metadata": {},
     "output_type": "execute_result"
    }
   ],
   "source": [
    "df_rooms[df_rooms['core_room_id'] == 1429507]"
   ]
  },
  {
   "cell_type": "code",
   "execution_count": 87,
   "id": "bb432b9d",
   "metadata": {},
   "outputs": [
    {
     "data": {
      "text/html": [
       "<div>\n",
       "<style scoped>\n",
       "    .dataframe tbody tr th:only-of-type {\n",
       "        vertical-align: middle;\n",
       "    }\n",
       "\n",
       "    .dataframe tbody tr th {\n",
       "        vertical-align: top;\n",
       "    }\n",
       "\n",
       "    .dataframe thead th {\n",
       "        text-align: right;\n",
       "    }\n",
       "</style>\n",
       "<table border=\"1\" class=\"dataframe\">\n",
       "  <thead>\n",
       "    <tr style=\"text-align: right;\">\n",
       "      <th></th>\n",
       "      <th>hotel_id</th>\n",
       "      <th>lp_id</th>\n",
       "      <th>room_id</th>\n",
       "      <th>room_name</th>\n",
       "    </tr>\n",
       "  </thead>\n",
       "  <tbody>\n",
       "    <tr>\n",
       "      <th>62113</th>\n",
       "      <td>14295</td>\n",
       "      <td>lp4d7e4</td>\n",
       "      <td>1429507</td>\n",
       "      <td>Superior Three-Bedroom Apartment</td>\n",
       "    </tr>\n",
       "  </tbody>\n",
       "</table>\n",
       "</div>"
      ],
      "text/plain": [
       "       hotel_id    lp_id  room_id                         room_name\n",
       "62113     14295  lp4d7e4  1429507  Superior Three-Bedroom Apartment"
      ]
     },
     "execution_count": 87,
     "metadata": {},
     "output_type": "execute_result"
    }
   ],
   "source": [
    "df_ref[df_ref['room_id'] == 1429507]"
   ]
  },
  {
   "cell_type": "code",
   "execution_count": 88,
   "id": "73d41b64",
   "metadata": {},
   "outputs": [
    {
     "data": {
      "text/html": [
       "<div>\n",
       "<style scoped>\n",
       "    .dataframe tbody tr th:only-of-type {\n",
       "        vertical-align: middle;\n",
       "    }\n",
       "\n",
       "    .dataframe tbody tr th {\n",
       "        vertical-align: top;\n",
       "    }\n",
       "\n",
       "    .dataframe thead th {\n",
       "        text-align: right;\n",
       "    }\n",
       "</style>\n",
       "<table border=\"1\" class=\"dataframe\">\n",
       "  <thead>\n",
       "    <tr style=\"text-align: right;\">\n",
       "      <th></th>\n",
       "      <th>core_room_id</th>\n",
       "      <th>core_hotel_id</th>\n",
       "      <th>lp_id</th>\n",
       "      <th>supplier_room_id</th>\n",
       "      <th>supplier_name</th>\n",
       "      <th>supplier_room_name</th>\n",
       "    </tr>\n",
       "  </thead>\n",
       "  <tbody>\n",
       "    <tr>\n",
       "      <th>866707</th>\n",
       "      <td>869220</td>\n",
       "      <td>1700065373</td>\n",
       "      <td>lp6554f05d</td>\n",
       "      <td>228316703</td>\n",
       "      <td>Expedia</td>\n",
       "      <td>Executive Room</td>\n",
       "    </tr>\n",
       "  </tbody>\n",
       "</table>\n",
       "</div>"
      ],
      "text/plain": [
       "        core_room_id  core_hotel_id       lp_id  supplier_room_id  \\\n",
       "866707        869220     1700065373  lp6554f05d         228316703   \n",
       "\n",
       "       supplier_name supplier_room_name  \n",
       "866707       Expedia     Executive Room  "
      ]
     },
     "execution_count": 88,
     "metadata": {},
     "output_type": "execute_result"
    }
   ],
   "source": [
    "df_rooms[df_rooms['supplier_room_id'] == 228316703]"
   ]
  },
  {
   "cell_type": "code",
   "execution_count": 89,
   "id": "72d891b1",
   "metadata": {},
   "outputs": [
    {
     "data": {
      "text/html": [
       "<div>\n",
       "<style scoped>\n",
       "    .dataframe tbody tr th:only-of-type {\n",
       "        vertical-align: middle;\n",
       "    }\n",
       "\n",
       "    .dataframe tbody tr th {\n",
       "        vertical-align: top;\n",
       "    }\n",
       "\n",
       "    .dataframe thead th {\n",
       "        text-align: right;\n",
       "    }\n",
       "</style>\n",
       "<table border=\"1\" class=\"dataframe\">\n",
       "  <thead>\n",
       "    <tr style=\"text-align: right;\">\n",
       "      <th></th>\n",
       "      <th>hotel_id</th>\n",
       "      <th>lp_id</th>\n",
       "      <th>room_id</th>\n",
       "      <th>room_name</th>\n",
       "    </tr>\n",
       "  </thead>\n",
       "  <tbody>\n",
       "    <tr>\n",
       "      <th>90958</th>\n",
       "      <td>2283167</td>\n",
       "      <td>lp6564419b</td>\n",
       "      <td>228316703</td>\n",
       "      <td>Two-Bedroom Apartment</td>\n",
       "    </tr>\n",
       "  </tbody>\n",
       "</table>\n",
       "</div>"
      ],
      "text/plain": [
       "       hotel_id       lp_id    room_id              room_name\n",
       "90958   2283167  lp6564419b  228316703  Two-Bedroom Apartment"
      ]
     },
     "execution_count": 89,
     "metadata": {},
     "output_type": "execute_result"
    }
   ],
   "source": [
    "df_ref[df_ref['room_id'] == 228316703]"
   ]
  }
 ],
 "metadata": {
  "kernelspec": {
   "display_name": "base",
   "language": "python",
   "name": "python3"
  },
  "language_info": {
   "codemirror_mode": {
    "name": "ipython",
    "version": 3
   },
   "file_extension": ".py",
   "mimetype": "text/x-python",
   "name": "python",
   "nbconvert_exporter": "python",
   "pygments_lexer": "ipython3",
   "version": "3.12.2"
  }
 },
 "nbformat": 4,
 "nbformat_minor": 5
}
